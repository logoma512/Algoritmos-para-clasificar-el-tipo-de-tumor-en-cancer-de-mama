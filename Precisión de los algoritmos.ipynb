{
 "cells": [
  {
   "cell_type": "markdown",
   "id": "500c487f",
   "metadata": {},
   "source": [
    "# Precisión de los algoritmos"
   ]
  },
  {
   "cell_type": "markdown",
   "id": "48894eab",
   "metadata": {},
   "source": [
    "## Precisión del LDA"
   ]
  },
  {
   "cell_type": "code",
   "execution_count": null,
   "id": "1cbf65d2",
   "metadata": {},
   "outputs": [],
   "source": [
    "# Cálculo de la precisión del LDA\n",
    "accuracy_lda = accuracy_score(y_test, y_pred_lda)\n",
    "print(f'Precisión LDA: {accuracy_lda:.3f}')"
   ]
  },
  {
   "cell_type": "markdown",
   "id": "c54d3c83",
   "metadata": {},
   "source": [
    "## Precisión QDA"
   ]
  },
  {
   "cell_type": "code",
   "execution_count": null,
   "id": "114a4825",
   "metadata": {},
   "outputs": [],
   "source": [
    "# Cálculo de la precisión del QDA\n",
    "accuracy_qda = accuracy_score(y_test, y_pred_qda)\n",
    "print(f'Precisón QDA: {accuracy_qda:.3f}')"
   ]
  },
  {
   "cell_type": "markdown",
   "id": "b740bf87",
   "metadata": {},
   "source": [
    "## Precisión RDA"
   ]
  },
  {
   "cell_type": "code",
   "execution_count": null,
   "id": "1d8eeb26",
   "metadata": {},
   "outputs": [],
   "source": [
    "# Cálculo de la precisión del LDA regularizado como aproximación a RDA\n",
    "accuracy_lda_rda = accuracy_score(y_test, y_pred_lda_rda)\n",
    "print(f'Precisión LDA (Regularizado): {accuracy_lda_rda:.3f}')"
   ]
  }
 ],
 "metadata": {
  "kernelspec": {
   "display_name": "Python 3 (ipykernel)",
   "language": "python",
   "name": "python3"
  },
  "language_info": {
   "codemirror_mode": {
    "name": "ipython",
    "version": 3
   },
   "file_extension": ".py",
   "mimetype": "text/x-python",
   "name": "python",
   "nbconvert_exporter": "python",
   "pygments_lexer": "ipython3",
   "version": "3.11.5"
  }
 },
 "nbformat": 4,
 "nbformat_minor": 5
}
